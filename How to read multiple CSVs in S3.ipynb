{
 "cells": [
  {
   "cell_type": "markdown",
   "metadata": {
    "application/vnd.databricks.v1+cell": {
     "cellMetadata": {},
     "inputWidgets": {},
     "nuid": "48abb36e-c843-4bd8-8ded-a4d87d2a9b12",
     "showTitle": false,
     "tableResultSettingsMap": {},
     "title": ""
    }
   },
   "source": [
    "## this is AI generated code that shows how to load multiple CSVs in Spark and filter the files based onthe year in their names or paths ##"
   ]
  },
  {
   "cell_type": "code",
   "execution_count": 0,
   "metadata": {
    "application/vnd.databricks.v1+cell": {
     "cellMetadata": {},
     "inputWidgets": {},
     "nuid": "738df5ab-b6eb-4866-b009-c3fe3c747dc5",
     "showTitle": false,
     "tableResultSettingsMap": {},
     "title": ""
    }
   },
   "outputs": [],
   "source": [
    "from pyspark.sql import SparkSession\n",
    "\n",
    "# Initialize Spark session (Databricks automatically provides this)\n",
    "spark = SparkSession.builder.appName(\"LoadYearlyData\").getOrCreate()\n",
    "\n",
    "# S3 bucket and folder path\n",
    "bucket_name = \"your-s3-bucket-name\"\n",
    "prefix = \"path/to/csvs/\"  # e.g., \"data/weekly/\"\n",
    "\n",
    "# Define the year to filter\n",
    "year = \"2025\"\n",
    "\n",
    "# Path to the S3 bucket\n",
    "s3_path = f\"s3a://{bucket_name}/{prefix}\"\n",
    "\n",
    "# Read all CSV files from the S3 bucket\n",
    "df = spark.read.format(\"csv\") \\\n",
    "    .option(\"header\", \"true\") \\\n",
    "    .option(\"inferSchema\", \"true\") \\\n",
    "    .load(s3_path)\n",
    "\n",
    "# Filter rows for the specified year (assuming a 'year_month' column exists)\n",
    "filtered_df = df.filter(df[\"year_month\"].startswith(year))\n",
    "\n",
    "# Show the combined DataFrame\n",
    "filtered_df.show()\n",
    "\n",
    "# Perform any additional transformations or actions\n",
    "# For example, group by 'nta_no' and calculate aggregates\n",
    "aggregated_df = filtered_df.groupBy(\"nta_no\").agg(\n",
    "    {\"sidewalk_count\": \"sum\",\n",
    "     \"clean_sidewalk_count\": \"sum\",\n",
    "     \"sidewalk_average\": \"avg\",\n",
    "     \"percent_clean_sidewalks\": \"avg\",\n",
    "     \"filthy_sidewalk_count\": \"sum\",\n",
    "     \"street_count\": \"sum\",\n",
    "     \"clean_street_count\": \"sum\",\n",
    "     \"street_average\": \"avg\",\n",
    "     \"filthy_street_count\": \"sum\",\n",
    "     \"percent_clean_streets\": \"avg\"}\n",
    ")\n",
    "\n",
    "# Show the aggregated results\n",
    "aggregated_df.show()"
   ]
  }
 ],
 "metadata": {
  "application/vnd.databricks.v1+notebook": {
   "computePreferences": null,
   "dashboards": [],
   "environmentMetadata": {
    "base_environment": "",
    "environment_version": "2"
   },
   "inputWidgetPreferences": null,
   "language": "python",
   "notebookMetadata": {
    "pythonIndentUnit": 4
   },
   "notebookName": "How to read multiple CSVs in S3",
   "widgets": {}
  },
  "language_info": {
   "name": "python"
  }
 },
 "nbformat": 4,
 "nbformat_minor": 0
}
