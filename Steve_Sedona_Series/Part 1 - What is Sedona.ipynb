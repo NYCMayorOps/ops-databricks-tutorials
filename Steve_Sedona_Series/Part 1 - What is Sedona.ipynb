{
 "cells": [
  {
   "cell_type": "markdown",
   "metadata": {
    "application/vnd.databricks.v1+cell": {
     "cellMetadata": {},
     "inputWidgets": {},
     "nuid": "d3980a2f-2ba4-4f75-b4cc-210e1760bf56",
     "showTitle": false,
     "tableResultSettingsMap": {},
     "title": ""
    }
   },
   "source": [
    "#Part One\n",
    "- What is Sedona and why to use it\n",
    "\n",
    "- Sedona vs Geopandas"
   ]
  },
  {
   "cell_type": "code",
   "execution_count": 0,
   "metadata": {
    "application/vnd.databricks.v1+cell": {
     "cellMetadata": {
      "byteLimit": 2048000,
      "rowLimit": 10000
     },
     "inputWidgets": {},
     "nuid": "2d2272d7-e8ad-4790-9109-65676c789bf5",
     "showTitle": false,
     "tableResultSettingsMap": {},
     "title": ""
    }
   },
   "outputs": [],
   "source": [
    "## What is Sedona and why to use it?"
   ]
  },
  {
   "cell_type": "markdown",
   "metadata": {
    "application/vnd.databricks.v1+cell": {
     "cellMetadata": {},
     "inputWidgets": {},
     "nuid": "d318186c-abfa-4ab8-9e91-c2e73d40c245",
     "showTitle": false,
     "tableResultSettingsMap": {},
     "title": ""
    }
   },
   "source": [
    "\n",
    "Databricks invented Apache Spark. Spark is a framework from managing large datasets. The primary object in spark is a Spark DataFrame. This is similar to a dataframe in Pandas. However, Spark on the Databricks platform is much more than a way to manipulate dataframes. It also consistes of a storage system (delta tables in the catalog), workflows for executing code, notebooks for storing code, and much more. By doing data science in Spark Dataframes, you are able to write code optimized for the Databricks Lakehouse.  "
   ]
  },
  {
   "cell_type": "markdown",
   "metadata": {
    "application/vnd.databricks.v1+cell": {
     "cellMetadata": {},
     "inputWidgets": {},
     "nuid": "7bb27a08-acc8-4390-afa4-94457f673ecd",
     "showTitle": false,
     "tableResultSettingsMap": {},
     "title": ""
    }
   },
   "source": [
    "Sedona is a geospatial framework for Spark. It was originally created by Arizona State University in 2017, known as GeoSpark. Sedona is accessable through both Spark's SQL and Python language APIs, or any other Spark language like Scala, Java, or R.\n",
    "\n",
    "The primary advantage of Sedona is that it is optimized for distributed databases like the Databricks Lakehouse and Snowflake. Using innovative indexing methods, it greatly speeds up geospatial processing, search, and retrieval. Apache claims it runs 2X-10X faster than other Spark-Based geospatial data systems, with 50% less peak memory consumption.This makes it an excellent choice for big data and very large datasets."
   ]
  },
  {
   "cell_type": "markdown",
   "metadata": {
    "application/vnd.databricks.v1+cell": {
     "cellMetadata": {},
     "inputWidgets": {},
     "nuid": "8fe170e0-c70e-4cd1-8aac-53f523fc5161",
     "showTitle": false,
     "tableResultSettingsMap": {},
     "title": ""
    }
   },
   "source": [
    "## Sedona VS Geopandas ##"
   ]
  },
  {
   "cell_type": "markdown",
   "metadata": {
    "application/vnd.databricks.v1+cell": {
     "cellMetadata": {},
     "inputWidgets": {},
     "nuid": "1827cde3-fb30-49cf-85ae-bfe7b6b4f0e7",
     "showTitle": false,
     "tableResultSettingsMap": {},
     "title": ""
    }
   },
   "source": [
    "Databricks is optimized to execute Spark code. Therefore any time you use a Pandas framework dataframe, you will have to convert it back to a Spark Dataframe. It is preferable to stay within a Spark Dataframe if possible for optimization and ease of reading and writing to the Catalog.\n",
    "\n",
    "Also, Sedona is designed specifically for distributed datasets on a cluster, while Pandas depends on ingesting everything into memory. This increases memory requirements and increases read-write times. Geospatial data analysis in Sedona is optimized, efficient, easy, and perfomant compared to GeoPandas."
   ]
  }
 ],
 "metadata": {
  "application/vnd.databricks.v1+notebook": {
   "computePreferences": null,
   "dashboards": [],
   "environmentMetadata": {
    "base_environment": "",
    "environment_version": "2"
   },
   "inputWidgetPreferences": null,
   "language": "python",
   "notebookMetadata": {
    "pythonIndentUnit": 4
   },
   "notebookName": "Part 1 - What is Sedona",
   "widgets": {}
  },
  "language_info": {
   "name": "python"
  }
 },
 "nbformat": 4,
 "nbformat_minor": 0
}
