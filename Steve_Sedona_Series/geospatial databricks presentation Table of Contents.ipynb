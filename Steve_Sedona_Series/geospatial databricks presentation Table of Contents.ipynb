{
 "cells": [
  {
   "cell_type": "markdown",
   "metadata": {
    "application/vnd.databricks.v1+cell": {
     "cellMetadata": {
      "byteLimit": 2048000,
      "rowLimit": 10000
     },
     "inputWidgets": {},
     "nuid": "1ebb45a5-b566-4752-b30d-18f388728711",
     "showTitle": false,
     "tableResultSettingsMap": {},
     "title": ""
    }
   },
   "source": [
    "# Steve's Presentation on Geospatial Databricks #"
   ]
  },
  {
   "cell_type": "markdown",
   "metadata": {
    "application/vnd.databricks.v1+cell": {
     "cellMetadata": {},
     "inputWidgets": {},
     "nuid": "a001fc31-b73c-42dd-95bc-8adb4ad427cb",
     "showTitle": false,
     "tableResultSettingsMap": {},
     "title": ""
    }
   },
   "source": [
    "#Part One#\n",
    "## What is Sedona and why to use it\n",
    "- What is Sedona\n",
    "- Advantages of Sedona\n",
    "- Sedona vs Geopandas\n",
    "\n",
    "\n",
    "# Part Two #\n",
    "## Gettings Started\n",
    "- What is ST_?\n",
    "- Sedona and Geopandas working together.\n",
    "- read a GeoJSON\n",
    "- read a Shapefile.\n",
    "\n",
    "\n",
    "## Working with a Sedona dataframe\n",
    "- What is a WKB, WKT, Serialization and Deserialization.\n",
    "- turning a Spark Dataframe into a Geospatial Dataframe\n",
    "- with SQL\n",
    "- with python\n",
    "\n",
    "\n",
    "# Part Three #\n",
    "## Geospatial Join 3 ways.##\n",
    "- Geospatial Join Python\n",
    "- Geospatial Join SQL\n",
    "- Geospaital Join Carto\n",
    "\n",
    "\n",
    "#Part Four#\n",
    "## Visualization in PowerBI##\n",
    "- Visualization in Carto\n",
    "- Visualization in PowerBI\n",
    "- Visualization in Mapbox"
   ]
  }
 ],
 "metadata": {
  "application/vnd.databricks.v1+notebook": {
   "computePreferences": null,
   "dashboards": [],
   "environmentMetadata": {
    "base_environment": "",
    "environment_version": "2"
   },
   "inputWidgetPreferences": null,
   "language": "python",
   "notebookMetadata": {
    "pythonIndentUnit": 4
   },
   "notebookName": "geospatial databricks presentation Table of Contents",
   "widgets": {}
  },
  "language_info": {
   "name": "python"
  }
 },
 "nbformat": 4,
 "nbformat_minor": 0
}
