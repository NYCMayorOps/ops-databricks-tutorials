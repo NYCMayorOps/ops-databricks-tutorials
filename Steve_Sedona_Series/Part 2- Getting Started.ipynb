{
 "cells": [
  {
   "cell_type": "markdown",
   "metadata": {
    "application/vnd.databricks.v1+cell": {
     "cellMetadata": {},
     "inputWidgets": {},
     "nuid": "2fb3c030-ebab-4b8b-83fd-fcfa80051943",
     "showTitle": false,
     "tableResultSettingsMap": {},
     "title": ""
    }
   },
   "source": [
    "# Part 2 #\n",
    "## Gettings Started ##\n",
    "What is ST_?\n",
    "## Sedona and Geopandas working together. ##\n",
    "### Read Latitude and Longitude ###\n",
    "## turning a Spark Dataframe into a Geospatial Dataframe ##\n",
    "### with SQL ###\n",
    "### with python ###"
   ]
  },
  {
   "cell_type": "markdown",
   "metadata": {
    "application/vnd.databricks.v1+cell": {
     "cellMetadata": {},
     "inputWidgets": {},
     "nuid": "355f9d79-d3fe-455e-bff8-0e6724185e2f",
     "showTitle": false,
     "tableResultSettingsMap": {},
     "title": ""
    }
   },
   "source": [
    "#Getting Started"
   ]
  },
  {
   "cell_type": "markdown",
   "metadata": {
    "application/vnd.databricks.v1+cell": {
     "cellMetadata": {},
     "inputWidgets": {},
     "nuid": "dc5e29d7-fd7c-41bb-8e76-30e91ed61d63",
     "showTitle": false,
     "tableResultSettingsMap": {},
     "title": ""
    }
   },
   "source": [
    "Sedona functions in the API are designated by the prefix \"ST_\". For example, \"ST_Point\" is a function that creates a point geometry.We can test our Sedona setup by reading an ST_Point into a dataframe."
   ]
  },
  {
   "cell_type": "markdown",
   "metadata": {
    "application/vnd.databricks.v1+cell": {
     "cellMetadata": {},
     "inputWidgets": {},
     "nuid": "3c812266-17c3-4741-8c88-e3ad2b97dd21",
     "showTitle": false,
     "tableResultSettingsMap": {},
     "title": ""
    }
   },
   "source": [
    "#Enable geospatial features#\n",
    "spark.conf.set(\"spark.databricks.geo.st.enabled\", \"true\")"
   ]
  },
  {
   "cell_type": "code",
   "execution_count": 0,
   "metadata": {
    "application/vnd.databricks.v1+cell": {
     "cellMetadata": {
      "byteLimit": 2048000,
      "rowLimit": 10000
     },
     "inputWidgets": {},
     "nuid": "0ee91920-592e-4f9f-af09-62f42f438e1e",
     "showTitle": false,
     "tableResultSettingsMap": {},
     "title": ""
    }
   },
   "outputs": [],
   "source": [
    "spark.conf.set(\"spark.databricks.geo.st.enabled\", \"true\")"
   ]
  },
  {
   "cell_type": "code",
   "execution_count": 0,
   "metadata": {
    "application/vnd.databricks.v1+cell": {
     "cellMetadata": {
      "byteLimit": 2048000,
      "rowLimit": 10000
     },
     "inputWidgets": {},
     "nuid": "c4fe639b-cb41-458a-be03-95511c540549",
     "showTitle": false,
     "tableResultSettingsMap": {},
     "title": ""
    }
   },
   "outputs": [],
   "source": [
    "df = spark.sql('SELECT ST_ASTEXT(ST_POINT(0,0)) AS test_point')\n",
    "df.display()"
   ]
  },
  {
   "cell_type": "markdown",
   "metadata": {
    "application/vnd.databricks.v1+cell": {
     "cellMetadata": {},
     "inputWidgets": {},
     "nuid": "4e41b0c8-1fe6-4425-ad66-6992d5548fe5",
     "showTitle": false,
     "tableResultSettingsMap": {},
     "title": ""
    }
   },
   "source": [
    "*By creating or reading a geometry column, you convert a Spark dataframe into a Sedona Spatial Data Frame*"
   ]
  },
  {
   "cell_type": "markdown",
   "metadata": {
    "application/vnd.databricks.v1+cell": {
     "cellMetadata": {},
     "inputWidgets": {},
     "nuid": "83d85383-fcbf-4239-8bd8-660d117790e2",
     "showTitle": false,
     "tableResultSettingsMap": {},
     "title": ""
    }
   },
   "source": [
    "# reading geometry from files #"
   ]
  },
  {
   "cell_type": "markdown",
   "metadata": {
    "application/vnd.databricks.v1+cell": {
     "cellMetadata": {},
     "inputWidgets": {},
     "nuid": "d9f062d3-e1ef-4153-bf93-bbcc55a30746",
     "showTitle": false,
     "tableResultSettingsMap": {},
     "title": ""
    }
   },
   "source": [
    "While new ways of parsing geometry in Spark, I have found it easiest to use Geopandas."
   ]
  },
  {
   "cell_type": "markdown",
   "metadata": {
    "application/vnd.databricks.v1+cell": {
     "cellMetadata": {},
     "inputWidgets": {},
     "nuid": "0150d007-9afb-4e9b-ae4c-417264cd3e44",
     "showTitle": false,
     "tableResultSettingsMap": {},
     "title": ""
    }
   },
   "source": [
    "The first step is to upload the geometry to a Volume in the catalog."
   ]
  },
  {
   "cell_type": "markdown",
   "metadata": {
    "application/vnd.databricks.v1+cell": {
     "cellMetadata": {},
     "inputWidgets": {},
     "nuid": "e1da7578-4478-4803-8e9f-a91fbc405bd7",
     "showTitle": false,
     "tableResultSettingsMap": {},
     "title": ""
    }
   },
   "source": [
    "Then read the map as a Pandas Geodataframe. "
   ]
  },
  {
   "cell_type": "code",
   "execution_count": 0,
   "metadata": {
    "application/vnd.databricks.v1+cell": {
     "cellMetadata": {
      "byteLimit": 2048000,
      "rowLimit": 10000
     },
     "inputWidgets": {},
     "nuid": "4ce116a8-d687-45dc-815c-0b722f8af9ad",
     "showTitle": false,
     "tableResultSettingsMap": {},
     "title": ""
    }
   },
   "outputs": [],
   "source": [
    "import geopandas as gpd\n",
    "geojson_path = '/Volumes/moo_ops_workspace/geospatial/geospatial_files_volume/BusinessImprovementDistrict.geojson'\n",
    "geopandas_dataframe = gpd.read_file(geojson_path)\n",
    "geopandas_dataframe.info()"
   ]
  },
  {
   "cell_type": "markdown",
   "metadata": {
    "application/vnd.databricks.v1+cell": {
     "cellMetadata": {},
     "inputWidgets": {},
     "nuid": "cb4e5e28-38e8-4f3a-a7e4-2b96706478bd",
     "showTitle": false,
     "tableResultSettingsMap": {},
     "title": ""
    }
   },
   "source": [
    "### WKT and WKB ###\n",
    "WKT stands for Well-Known-Text and WKB stands for Well-Known Binary. Well known text is human-readable but takes up much space. Binary files are not human readable but are more compressed. Both are valid formats for storing geospatial information. However, somee operations will need one type or the other. Carto requires binary files, while spatial analysis often requires text. GeoJSON files saved as WKT. \n",
    "\n",
    "The process of turning a well-known text into a well-known binary is called * serialization * . The process of converting a binary to text is called *deserializatin*."
   ]
  },
  {
   "cell_type": "code",
   "execution_count": 0,
   "metadata": {
    "application/vnd.databricks.v1+cell": {
     "cellMetadata": {
      "byteLimit": 2048000,
      "rowLimit": 10000
     },
     "inputWidgets": {},
     "nuid": "b37c0d6d-842c-4d92-9221-3ac459b7f431",
     "showTitle": false,
     "tableResultSettingsMap": {},
     "title": ""
    }
   },
   "outputs": [],
   "source": [
    "from pyspark.sql.functions import col, expr"
   ]
  },
  {
   "cell_type": "code",
   "execution_count": 0,
   "metadata": {
    "application/vnd.databricks.v1+cell": {
     "cellMetadata": {
      "byteLimit": 2048000,
      "rowLimit": 10000
     },
     "inputWidgets": {},
     "nuid": "fae440e1-a814-4353-bf25-ef04334ae206",
     "showTitle": false,
     "tableResultSettingsMap": {},
     "title": ""
    }
   },
   "outputs": [],
   "source": [
    "#read the GeoPandas Geodataframe into a Sedona Data Frame\n",
    "#convert the  the geometry as a well-known text geometry first\n",
    "geopandas_wkt = geopandas_dataframe.assign(geometry=geopandas_dataframe.geometry.apply(lambda geom: geom.wkt))\n",
    "geopandas_wkt.info()\n",
    "\n",
    "#convert geodataframe into vanilla Spark dataframe. note the Geometry type is \"object\" not geometry.\n",
    "spark_dataframe = spark.createDataFrame(geopandas_wkt)\n",
    "spark_dataframe.display()\n",
    "\n",
    "#cast the geometry column to a Sedona geometry type\n",
    "spatial_dataframe= spark_dataframe.select(col(\"geometry\"), expr(\"ST_AsText(ST_GeomFromWKT(geometry)) AS geom\"))\n",
    "\n"
   ]
  },
  {
   "cell_type": "markdown",
   "metadata": {
    "application/vnd.databricks.v1+cell": {
     "cellMetadata": {},
     "inputWidgets": {},
     "nuid": "9e3da37c-7934-499e-a380-610962743d3c",
     "showTitle": false,
     "tableResultSettingsMap": {},
     "title": ""
    }
   },
   "source": [
    "# Using Sedona as SQL #"
   ]
  },
  {
   "cell_type": "code",
   "execution_count": 0,
   "metadata": {
    "application/vnd.databricks.v1+cell": {
     "cellMetadata": {
      "byteLimit": 2048000,
      "rowLimit": 10000
     },
     "inputWidgets": {},
     "nuid": "938800d8-2d4a-4415-8e31-87fb5265f023",
     "showTitle": false,
     "tableResultSettingsMap": {},
     "title": ""
    }
   },
   "outputs": [],
   "source": [
    "#upload dataframe as a temp table\n",
    "spark_dataframe.createOrReplaceTempView(\"spark_dataframe_temp_view\")\n",
    "\n",
    "#parse the geometry column as a Sedona geometry type\n",
    "#this will throw an error. Cannot query with spatial dataframe\n",
    "spatial_dataframe = spark.sql(\"SELECT ST_GeomFromWKT(geometry) as geom FROM spark_dataframe_temp_view\")\n",
    "spatial_dataframe.show()"
   ]
  },
  {
   "cell_type": "markdown",
   "metadata": {
    "application/vnd.databricks.v1+cell": {
     "cellMetadata": {},
     "inputWidgets": {},
     "nuid": "fbcd3b2b-5029-4b00-ae27-7e736966ebe3",
     "showTitle": false,
     "tableResultSettingsMap": {},
     "title": ""
    }
   },
   "source": [
    "Once the geometry column is converted from a string to geometry, it **cannot** be displayed.\n"
   ]
  },
  {
   "cell_type": "code",
   "execution_count": 0,
   "metadata": {
    "application/vnd.databricks.v1+cell": {
     "cellMetadata": {
      "byteLimit": 2048000,
      "rowLimit": 10000
     },
     "inputWidgets": {},
     "nuid": "80cd7d48-ce6a-4659-a0c4-e038c6826cd6",
     "showTitle": false,
     "tableResultSettingsMap": {},
     "title": ""
    }
   },
   "outputs": [],
   "source": [
    "#these will all throw errors. Cannot query with spatial dataframe\n",
    "spatial_dataframe.write.mode(\"overwrite\").saveAsTable(\"moo_ops_workspace.default.spatial_dataframe_test2\")\n",
    "spatial_dataframe.display()\n",
    "spatial_dataframe.printSchema()\n"
   ]
  },
  {
   "cell_type": "code",
   "execution_count": 0,
   "metadata": {
    "application/vnd.databricks.v1+cell": {
     "cellMetadata": {
      "byteLimit": 2048000,
      "rowLimit": 10000
     },
     "inputWidgets": {},
     "nuid": "af9714d0-d181-49ef-838c-38e73f486aaf",
     "showTitle": false,
     "tableResultSettingsMap": {},
     "title": ""
    }
   },
   "outputs": [],
   "source": [
    "#To display, list, or save geography data, convert it back to a well known interchange format, e.g. GeoJSON, WKT, WKB.\n",
    "#ST_is already a WKT.\n",
    "spatial_dataframe_wkt = spatial_dataframe.select(expr(\"ST_AsText(geom) AS wkt\"))\n",
    "spatial_dataframe_wkt = spatial_dataframe.select(expr(\"geom as wkt\"))\n",
    "spatial_dataframe_wkt.display()\n",
    "spatial_dataframe_wkt.printSchema()"
   ]
  },
  {
   "cell_type": "markdown",
   "metadata": {
    "application/vnd.databricks.v1+cell": {
     "cellMetadata": {},
     "inputWidgets": {},
     "nuid": "66f4e930-758e-4b7c-84f9-c26c8c7c8aa5",
     "showTitle": false,
     "tableResultSettingsMap": {},
     "title": ""
    }
   },
   "source": [
    "# Writing a Spatial DataFrame"
   ]
  },
  {
   "cell_type": "code",
   "execution_count": 0,
   "metadata": {
    "application/vnd.databricks.v1+cell": {
     "cellMetadata": {
      "byteLimit": 2048000,
      "rowLimit": 10000
     },
     "inputWidgets": {},
     "nuid": "d281cee5-a23f-47a3-a1db-f62d3e825e7d",
     "showTitle": false,
     "tableResultSettingsMap": {},
     "title": ""
    }
   },
   "outputs": [],
   "source": [
    "#Save the Sedona spatial dataframe with the geometry saved to a standard interchange format \n",
    "#but it is only writing if it is WKT, not geometry.\n",
    "spatial_dataframe_wkt.write.mode(\"overwrite\").saveAsTable(\"moo_ops_workspace.default.spatial_dataframe_test\")"
   ]
  }
 ],
 "metadata": {
  "application/vnd.databricks.v1+notebook": {
   "computePreferences": null,
   "dashboards": [],
   "environmentMetadata": {
    "base_environment": "",
    "environment_version": "2"
   },
   "inputWidgetPreferences": null,
   "language": "python",
   "notebookMetadata": {
    "pythonIndentUnit": 4
   },
   "notebookName": "Part 2- Getting Started",
   "widgets": {}
  },
  "language_info": {
   "name": "python"
  }
 },
 "nbformat": 4,
 "nbformat_minor": 0
}
